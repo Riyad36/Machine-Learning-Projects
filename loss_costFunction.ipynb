{
  "nbformat": 4,
  "nbformat_minor": 0,
  "metadata": {
    "colab": {
      "name": "loss/costFunction.ipynb",
      "provenance": [],
      "collapsed_sections": []
    },
    "kernelspec": {
      "name": "python3",
      "display_name": "Python 3"
    },
    "language_info": {
      "name": "python"
    }
  },
  "cells": [
    {
      "cell_type": "code",
      "metadata": {
        "id": "CqNu51u-j35-"
      },
      "source": [
        "import numpy as np\n",
        "\n",
        "y_predicted = np.array([1,1,0,0,1])\n",
        "y_true = np.array([0.30,0.7,1,0,0.5])\n"
      ],
      "execution_count": 6,
      "outputs": []
    },
    {
      "cell_type": "code",
      "metadata": {
        "id": "WYD-YHI3kQ61"
      },
      "source": [
        "def mae(y_true, y_predicted):\n",
        "  total_error = 0\n",
        "  for yt, yp in zip(y_true, y_predicted): #we use zip to iterate two array at a same time\n",
        "    total_error += abs(yt-yp) #abs = absolute error\n",
        "\n",
        "  print(\"Total error:\",total_error)\n",
        "\n",
        "  mae = total_error / len(y_true)\n",
        "\n",
        "  return mae "
      ],
      "execution_count": 7,
      "outputs": []
    },
    {
      "cell_type": "code",
      "metadata": {
        "colab": {
          "base_uri": "https://localhost:8080/"
        },
        "id": "ZoDtUlO7lT3c",
        "outputId": "aef6388f-96a8-4b33-91aa-4ac27d92dcc9"
      },
      "source": [
        "mae(y_true, y_predicted)"
      ],
      "execution_count": 8,
      "outputs": [
        {
          "output_type": "stream",
          "text": [
            "Total error: 2.5\n"
          ],
          "name": "stdout"
        },
        {
          "output_type": "execute_result",
          "data": {
            "text/plain": [
              "0.5"
            ]
          },
          "metadata": {
            "tags": []
          },
          "execution_count": 8
        }
      ]
    },
    {
      "cell_type": "markdown",
      "metadata": {
        "id": "85hlvkBxlyGY"
      },
      "source": [
        "Now we will do the same thing using numpy"
      ]
    },
    {
      "cell_type": "code",
      "metadata": {
        "colab": {
          "base_uri": "https://localhost:8080/"
        },
        "id": "Om3iuHKflYy-",
        "outputId": "d4c3f586-6ef1-44fd-ac59-c91c9371e618"
      },
      "source": [
        "np.abs(y_true - y_predicted) #absolute error"
      ],
      "execution_count": 9,
      "outputs": [
        {
          "output_type": "execute_result",
          "data": {
            "text/plain": [
              "array([0.7, 0.3, 1. , 0. , 0.5])"
            ]
          },
          "metadata": {
            "tags": []
          },
          "execution_count": 9
        }
      ]
    },
    {
      "cell_type": "code",
      "metadata": {
        "colab": {
          "base_uri": "https://localhost:8080/"
        },
        "id": "_zqfg3aFl-mT",
        "outputId": "e05176b3-2ba3-4dec-b846-13a299703f08"
      },
      "source": [
        "np.mean(np.abs(y_true - y_predicted)) #Mean absolute error"
      ],
      "execution_count": 10,
      "outputs": [
        {
          "output_type": "execute_result",
          "data": {
            "text/plain": [
              "0.5"
            ]
          },
          "metadata": {
            "tags": []
          },
          "execution_count": 10
        }
      ]
    },
    {
      "cell_type": "markdown",
      "metadata": {
        "id": "POM4Lci5mS1m"
      },
      "source": [
        "Binary Cross Entropy"
      ]
    },
    {
      "cell_type": "markdown",
      "metadata": {
        "id": "5Dey_fmqm93e"
      },
      "source": [
        "log 0 is undefined. So first of all we will define 0 with some other values which is close to 0"
      ]
    },
    {
      "cell_type": "code",
      "metadata": {
        "id": "yTF9V4DvmLy7"
      },
      "source": [
        "epsilon = 1e-15"
      ],
      "execution_count": 15,
      "outputs": []
    },
    {
      "cell_type": "code",
      "metadata": {
        "colab": {
          "base_uri": "https://localhost:8080/"
        },
        "id": "ku_IITX-nQKA",
        "outputId": "770c3aad-fac4-437e-f485-bdcd22984099"
      },
      "source": [
        "y_predicted_new = [max(i,epsilon) for i in y_predicted]\n",
        "y_predicted_new"
      ],
      "execution_count": 16,
      "outputs": [
        {
          "output_type": "execute_result",
          "data": {
            "text/plain": [
              "[1, 1, 1e-15, 1e-15, 1]"
            ]
          },
          "metadata": {
            "tags": []
          },
          "execution_count": 16
        }
      ]
    },
    {
      "cell_type": "code",
      "metadata": {
        "colab": {
          "base_uri": "https://localhost:8080/"
        },
        "id": "sNzrzw6Nnfol",
        "outputId": "ca417312-ef52-44e8-ba51-b65d1718f617"
      },
      "source": [
        "y_predicted_new = [min(i,1-epsilon) for i in y_predicted_new]\n",
        "y_predicted_new"
      ],
      "execution_count": 17,
      "outputs": [
        {
          "output_type": "execute_result",
          "data": {
            "text/plain": [
              "[0.999999999999999, 0.999999999999999, 1e-15, 1e-15, 0.999999999999999]"
            ]
          },
          "metadata": {
            "tags": []
          },
          "execution_count": 17
        }
      ]
    },
    {
      "cell_type": "code",
      "metadata": {
        "colab": {
          "base_uri": "https://localhost:8080/"
        },
        "id": "LU9Jx2plntIV",
        "outputId": "77b48292-d103-46d8-cc8e-d150a14587b9"
      },
      "source": [
        "y_predicted_new = np.array(y_predicted_new)\n",
        "np.log(y_predicted_new)"
      ],
      "execution_count": 18,
      "outputs": [
        {
          "output_type": "execute_result",
          "data": {
            "text/plain": [
              "array([-9.99200722e-16, -9.99200722e-16, -3.45387764e+01, -3.45387764e+01,\n",
              "       -9.99200722e-16])"
            ]
          },
          "metadata": {
            "tags": []
          },
          "execution_count": 18
        }
      ]
    },
    {
      "cell_type": "code",
      "metadata": {
        "id": "JuRbPCwqoFTI"
      },
      "source": [
        "def log_loss(y_true, y_predicted):\n",
        "  y_predicted_new = [max(i,epsilon) for i in y_predicted]\n",
        "  y_predicted_new = [min(i,1-epsilon) for i in y_predicted_new]\n",
        "  y_predicted_new = np.array(y_predicted_new)\n",
        "\n",
        "  return -np.mean(y_true*np.log(y_predicted_new) + (1-y_true)* np.log(1-y_predicted_new))"
      ],
      "execution_count": 19,
      "outputs": []
    },
    {
      "cell_type": "code",
      "metadata": {
        "colab": {
          "base_uri": "https://localhost:8080/"
        },
        "id": "5UVsm3M0o2PW",
        "outputId": "9d0cfe33-5bbf-46cf-f6da-3afdbc402ed9"
      },
      "source": [
        "log_loss(y_true, y_predicted)"
      ],
      "execution_count": 20,
      "outputs": [
        {
          "output_type": "execute_result",
          "data": {
            "text/plain": [
              "17.2696280766844"
            ]
          },
          "metadata": {
            "tags": []
          },
          "execution_count": 20
        }
      ]
    }
  ]
}