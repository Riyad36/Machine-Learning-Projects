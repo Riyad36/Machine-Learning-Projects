{
  "nbformat": 4,
  "nbformat_minor": 0,
  "metadata": {
    "colab": {
      "name": "Image Classification using CNN.ipynb",
      "provenance": [],
      "collapsed_sections": []
    },
    "kernelspec": {
      "name": "python3",
      "display_name": "Python 3"
    },
    "language_info": {
      "name": "python"
    }
  },
  "cells": [
    {
      "cell_type": "code",
      "metadata": {
        "id": "Y87Sx4wjLwlz"
      },
      "source": [
        "import numpy as np\n",
        "import pandas as pd\n",
        "import tensorflow as tf\n",
        "from tensorflow import keras\n",
        "from tensorflow.keras import datasets, layers, models \n",
        "import matplotlib.pyplot as plt"
      ],
      "execution_count": 19,
      "outputs": []
    },
    {
      "cell_type": "code",
      "metadata": {
        "colab": {
          "base_uri": "https://localhost:8080/"
        },
        "id": "5vCP2yxKL98L",
        "outputId": "655a57b0-37c4-4b31-d571-bfb41e05d602"
      },
      "source": [
        "(X_train, y_train), (X_test, y_test) = datasets.cifar10.load_data()"
      ],
      "execution_count": 2,
      "outputs": [
        {
          "output_type": "stream",
          "text": [
            "Downloading data from https://www.cs.toronto.edu/~kriz/cifar-10-python.tar.gz\n",
            "170500096/170498071 [==============================] - 3s 0us/step\n"
          ],
          "name": "stdout"
        }
      ]
    },
    {
      "cell_type": "code",
      "metadata": {
        "colab": {
          "base_uri": "https://localhost:8080/"
        },
        "id": "BukcZnVtMAHR",
        "outputId": "6d3e2c51-1a74-4158-bd31-184be132bb45"
      },
      "source": [
        "X_train.shape"
      ],
      "execution_count": 3,
      "outputs": [
        {
          "output_type": "execute_result",
          "data": {
            "text/plain": [
              "(50000, 32, 32, 3)"
            ]
          },
          "metadata": {
            "tags": []
          },
          "execution_count": 3
        }
      ]
    },
    {
      "cell_type": "code",
      "metadata": {
        "id": "98aEuCwtNLGT"
      },
      "source": [
        "classes = [\"airplane\", \"automobile\", \"bird\", \"cat\", \"deer\", \"dog\", \"frog\", \"horse\", \"ship\", \"truck\"]"
      ],
      "execution_count": 10,
      "outputs": []
    },
    {
      "cell_type": "markdown",
      "metadata": {
        "id": "rBkzKEi_OJ3z"
      },
      "source": [
        "y_train is now remain as 2D array. But we dont want that. We need a simple single dimensional array. So we will reshape y_train"
      ]
    },
    {
      "cell_type": "code",
      "metadata": {
        "colab": {
          "base_uri": "https://localhost:8080/"
        },
        "id": "2PhoYaj0OZf5",
        "outputId": "abb6cfd7-ffb3-4493-bf5a-5ba3d7648232"
      },
      "source": [
        "y_train = y_train.reshape(-1,)\n",
        "y_train[:5]"
      ],
      "execution_count": 11,
      "outputs": [
        {
          "output_type": "execute_result",
          "data": {
            "text/plain": [
              "array([6, 9, 9, 4, 1], dtype=uint8)"
            ]
          },
          "metadata": {
            "tags": []
          },
          "execution_count": 11
        }
      ]
    },
    {
      "cell_type": "code",
      "metadata": {
        "id": "uVW2indcMCOL"
      },
      "source": [
        "def plot_image(X, y, index): \n",
        "  plt.figure(figsize=(5,2))\n",
        "  plt.imshow(X[index])\n",
        "  plt.xlabel(classes[y[index]])"
      ],
      "execution_count": 14,
      "outputs": []
    },
    {
      "cell_type": "code",
      "metadata": {
        "colab": {
          "base_uri": "https://localhost:8080/",
          "height": 173
        },
        "id": "-ylYseYgM2FL",
        "outputId": "91168749-344f-4528-ad12-dddd4a50f662"
      },
      "source": [
        "plot_image(X_train, y_train, 0)"
      ],
      "execution_count": 15,
      "outputs": [
        {
          "output_type": "display_data",
          "data": {
            "image/png": "[encoded data removed]",
            "text/plain": [
              "<Figure size 360x144 with 1 Axes>"
            ]
          },
          "metadata": {
            "tags": [],
            "needs_background": "light"
          }
        }
      ]
    },
    {
      "cell_type": "code",
      "metadata": {
        "colab": {
          "base_uri": "https://localhost:8080/",
          "height": 173
        },
        "id": "0AvxxeXbPBDk",
        "outputId": "1eaa2f70-8c2e-4b0d-cd67-dca9dfa9be95"
      },
      "source": [
        "plot_image(X_train, y_train, 9)"
      ],
      "execution_count": 16,
      "outputs": [
        {
          "output_type": "display_data",
          "data": {
            "image/png": "[encoded data removed]",
            "text/plain": [
              "<Figure size 360x144 with 1 Axes>"
            ]
          },
          "metadata": {
            "tags": [],
            "needs_background": "light"
          }
        }
      ]
    },
    {
      "cell_type": "code",
      "metadata": {
        "id": "TT6Vu77iPLJa"
      },
      "source": [
        "X_train = X_train/255\n",
        "X_test = X_test/255"
      ],
      "execution_count": 17,
      "outputs": []
    },
    {
      "cell_type": "markdown",
      "metadata": {
        "id": "A3XcJhl9Plxi"
      },
      "source": [
        "First we will build a simple ANN(Artificial neural Network) first. Then we will jump to CNN model building"
      ]
    },
    {
      "cell_type": "markdown",
      "metadata": {
        "id": "ZdLHk_SEQl0_"
      },
      "source": [
        "**If our y value is \"one hot encoded\" then we will use \"categorical_crossentropy\"\n",
        "but if y is stored as direct value then we will use \"Sparse_categorical_crossentropy\"**"
      ]
    },
    {
      "cell_type": "code",
      "metadata": {
        "colab": {
          "base_uri": "https://localhost:8080/"
        },
        "id": "Qj99IRUuPkRe",
        "outputId": "230286e6-ed7b-41b7-a34f-a26c0f27ac01"
      },
      "source": [
        "model = keras.Sequential([\n",
        "                          keras.layers.Flatten(input_shape=(32,32,3)), #input_layer\n",
        "                          keras.layers.Dense(3000, activation='relu'), #hidden_layer\n",
        "                          keras.layers.Dense(1000, activation='relu'), #hidden_layer\n",
        "                          keras.layers.Dense(10, activation='sigmoid') #output_layer;; as there is 10 category so we used 10 layer                          \n",
        "])\n",
        "\n",
        "model.compile(optimizer='SGD',\n",
        "              loss='sparse_categorical_crossentropy',\n",
        "              metrics=['accuracy']\n",
        ")\n",
        "model.fit(X_train, y_train, epochs=5)"
      ],
      "execution_count": 21,
      "outputs": [
        {
          "output_type": "stream",
          "text": [
            "Epoch 1/5\n",
            "1563/1563 [==============================] - 102s 65ms/step - loss: 1.9290 - accuracy: 0.3057\n",
            "Epoch 2/5\n",
            "1563/1563 [==============================] - 101s 65ms/step - loss: 1.6502 - accuracy: 0.4187\n",
            "Epoch 3/5\n",
            "1563/1563 [==============================] - 101s 65ms/step - loss: 1.5597 - accuracy: 0.4478\n",
            "Epoch 4/5\n",
            "1563/1563 [==============================] - 101s 65ms/step - loss: 1.4870 - accuracy: 0.4758\n",
            "Epoch 5/5\n",
            "1563/1563 [==============================] - 101s 64ms/step - loss: 1.4287 - accuracy: 0.4987\n"
          ],
          "name": "stdout"
        },
        {
          "output_type": "execute_result",
          "data": {
            "text/plain": [
              "<tensorflow.python.keras.callbacks.History at 0x7fbc07e59790>"
            ]
          },
          "metadata": {
            "tags": []
          },
          "execution_count": 21
        }
      ]
    },
    {
      "cell_type": "code",
      "metadata": {
        "colab": {
          "base_uri": "https://localhost:8080/"
        },
        "id": "rCiOZnMxRKtl",
        "outputId": "d670b6f9-1425-4799-c216-3cf300ab3c75"
      },
      "source": [
        "model.evaluate(X_test, y_test)"
      ],
      "execution_count": 22,
      "outputs": [
        {
          "output_type": "stream",
          "text": [
            "313/313 [==============================] - 8s 24ms/step - loss: 1.5200 - accuracy: 0.4582\n"
          ],
          "name": "stdout"
        },
        {
          "output_type": "execute_result",
          "data": {
            "text/plain": [
              "[1.5200086832046509, 0.45820000767707825]"
            ]
          },
          "metadata": {
            "tags": []
          },
          "execution_count": 22
        }
      ]
    },
    {
      "cell_type": "code",
      "metadata": {
        "colab": {
          "base_uri": "https://localhost:8080/"
        },
        "id": "s3dntxQeRthj",
        "outputId": "762caf97-4b91-4ecc-9405-ee43da6d0934"
      },
      "source": [
        "from sklearn.metrics import confusion_matrix, classification_report\n",
        "\n",
        "y_pred = model.predict(X_test)\n",
        "y_pred_classses = [np.argmax(element) for element in y_pred]\n",
        "\n",
        "print(\"Classification Report: \\n\", classification_report(y_test, y_pred_classses))"
      ],
      "execution_count": 25,
      "outputs": [
        {
          "output_type": "stream",
          "text": [
            "Classification Report: \n",
            "               precision    recall  f1-score   support\n",
            "\n",
            "           0       0.58      0.55      0.57      1000\n",
            "           1       0.57      0.66      0.61      1000\n",
            "           2       0.34      0.33      0.34      1000\n",
            "           3       0.37      0.14      0.21      1000\n",
            "           4       0.34      0.53      0.41      1000\n",
            "           5       0.36      0.42      0.38      1000\n",
            "           6       0.62      0.31      0.41      1000\n",
            "           7       0.37      0.76      0.50      1000\n",
            "           8       0.70      0.50      0.58      1000\n",
            "           9       0.70      0.39      0.50      1000\n",
            "\n",
            "    accuracy                           0.46     10000\n",
            "   macro avg       0.49      0.46      0.45     10000\n",
            "weighted avg       0.49      0.46      0.45     10000\n",
            "\n"
          ],
          "name": "stdout"
        }
      ]
    },
    {
      "cell_type": "markdown",
      "metadata": {
        "id": "TAmzFNbmXGgx"
      },
      "source": [
        "Now we will implement the model using CNN"
      ]
    },
    {
      "cell_type": "code",
      "metadata": {
        "id": "GqJ_Isw-XKuq"
      },
      "source": [
        "model_CNN = keras.Sequential([\n",
        "                              #cnn\n",
        "                              layers.Conv2D(filters=32, kernel_size=(3,3), activation='relu', input_shape=(32,32,3)),\n",
        "                              layers.MaxPooling2D((2,2)),\n",
        "\n",
        "                              layers.Conv2D(filters=32, kernel_size=(3,3), activation = 'relu'),\n",
        "                              layers.MaxPooling2D((2,2)),\n",
        "\n",
        "                              #dense\n",
        "                              layers.Flatten(),\n",
        "                              layers.Dense(64, activation='relu'),\n",
        "                              layers.Dense(10, activation='softmax')                        \n",
        "])"
      ],
      "execution_count": 32,
      "outputs": []
    },
    {
      "cell_type": "code",
      "metadata": {
        "id": "mUoq0zKjYwRf"
      },
      "source": [
        "model_CNN.compile(optimizer='SGD',\n",
        "              loss='sparse_categorical_crossentropy',\n",
        "              metrics=['accuracy']\n",
        ")"
      ],
      "execution_count": 33,
      "outputs": []
    },
    {
      "cell_type": "code",
      "metadata": {
        "colab": {
          "base_uri": "https://localhost:8080/"
        },
        "id": "9JuyKFK2Y__G",
        "outputId": "2091e8b0-1aeb-46d0-fa46-7c708a7e7e68"
      },
      "source": [
        "model_CNN.fit(X_train, y_train, epochs=10)"
      ],
      "execution_count": 34,
      "outputs": [
        {
          "output_type": "stream",
          "text": [
            "Epoch 1/10\n",
            "1563/1563 [==============================] - 53s 34ms/step - loss: 2.1522 - accuracy: 0.2073\n",
            "Epoch 2/10\n",
            "1563/1563 [==============================] - 53s 34ms/step - loss: 1.6859 - accuracy: 0.3994\n",
            "Epoch 3/10\n",
            "1563/1563 [==============================] - 53s 34ms/step - loss: 1.4706 - accuracy: 0.4788\n",
            "Epoch 4/10\n",
            "1563/1563 [==============================] - 53s 34ms/step - loss: 1.3580 - accuracy: 0.5172\n",
            "Epoch 5/10\n",
            "1563/1563 [==============================] - 52s 33ms/step - loss: 1.2746 - accuracy: 0.5515\n",
            "Epoch 6/10\n",
            "1563/1563 [==============================] - 53s 34ms/step - loss: 1.2105 - accuracy: 0.5736\n",
            "Epoch 7/10\n",
            "1563/1563 [==============================] - 53s 34ms/step - loss: 1.1553 - accuracy: 0.5977\n",
            "Epoch 8/10\n",
            "1563/1563 [==============================] - 53s 34ms/step - loss: 1.1048 - accuracy: 0.6111\n",
            "Epoch 9/10\n",
            "1563/1563 [==============================] - 53s 34ms/step - loss: 1.0510 - accuracy: 0.6349\n",
            "Epoch 10/10\n",
            "1563/1563 [==============================] - 53s 34ms/step - loss: 1.0222 - accuracy: 0.6453\n"
          ],
          "name": "stdout"
        },
        {
          "output_type": "execute_result",
          "data": {
            "text/plain": [
              "<tensorflow.python.keras.callbacks.History at 0x7fbc0bf79710>"
            ]
          },
          "metadata": {
            "tags": []
          },
          "execution_count": 34
        }
      ]
    },
    {
      "cell_type": "code",
      "metadata": {
        "colab": {
          "base_uri": "https://localhost:8080/",
          "height": 173
        },
        "id": "ki3UU06KjArv",
        "outputId": "1d2427a3-a1d5-41f5-d4bc-c0e0cdba0c3b"
      },
      "source": [
        "y_test = y_test.reshape(-1,)\n",
        "plot_image(X_test, y_test, 1)"
      ],
      "execution_count": 36,
      "outputs": [
        {
          "output_type": "display_data",
          "data": {
            "image/png": "[encoded data removed]",
            "text/plain": [
              "<Figure size 360x144 with 1 Axes>"
            ]
          },
          "metadata": {
            "tags": [],
            "needs_background": "light"
          }
        }
      ]
    },
    {
      "cell_type": "code",
      "metadata": {
        "colab": {
          "base_uri": "https://localhost:8080/"
        },
        "id": "agIqwevnjIAB",
        "outputId": "d13513df-5c33-4143-aafa-85e24ea316ec"
      },
      "source": [
        "y_pred = model_CNN.predict(X_test)\n",
        "y_pred[:5]"
      ],
      "execution_count": 38,
      "outputs": [
        {
          "output_type": "execute_result",
          "data": {
            "text/plain": [
              "array([[3.0310752e-03, 2.8003295e-04, 2.4241325e-02, 6.4282954e-01,\n",
              "        3.7457743e-03, 1.8466192e-01, 1.3327076e-01, 1.0355130e-03,\n",
              "        5.3758794e-03, 1.5281889e-03],\n",
              "       [8.9963168e-02, 2.6530254e-01, 3.7855520e-05, 3.4237826e-05,\n",
              "        2.7377985e-04, 7.7324961e-07, 1.3728056e-06, 3.7209811e-05,\n",
              "        4.7484136e-01, 1.6950773e-01],\n",
              "       [1.4425126e-01, 2.2514775e-01, 1.3627938e-03, 1.4607167e-03,\n",
              "        1.8341150e-03, 1.2033354e-04, 5.3282519e-04, 2.9977522e-04,\n",
              "        5.1973832e-01, 1.0525203e-01],\n",
              "       [6.0962391e-01, 1.6477263e-02, 9.4330125e-03, 1.2674193e-03,\n",
              "        4.8841448e-03, 3.1232779e-05, 5.5174838e-04, 9.4252650e-04,\n",
              "        3.5182583e-01, 4.9629970e-03],\n",
              "       [4.3734733e-05, 3.5817720e-04, 3.6041163e-02, 9.8575965e-02,\n",
              "        5.0860882e-01, 5.2395482e-02, 3.0301839e-01, 2.6809250e-04,\n",
              "        3.2992018e-04, 3.6028103e-04]], dtype=float32)"
            ]
          },
          "metadata": {
            "tags": []
          },
          "execution_count": 38
        }
      ]
    },
    {
      "cell_type": "code",
      "metadata": {
        "colab": {
          "base_uri": "https://localhost:8080/"
        },
        "id": "reTRV-1Ljc4A",
        "outputId": "63e9c3fc-0919-4c55-81ed-099b2670dd52"
      },
      "source": [
        "y_classes = [np.argmax(element) for element in y_pred]\n",
        "y_classes[:5]\n",
        "              "
      ],
      "execution_count": 39,
      "outputs": [
        {
          "output_type": "execute_result",
          "data": {
            "text/plain": [
              "[3, 8, 8, 0, 4]"
            ]
          },
          "metadata": {
            "tags": []
          },
          "execution_count": 39
        }
      ]
    },
    {
      "cell_type": "code",
      "metadata": {
        "colab": {
          "base_uri": "https://localhost:8080/"
        },
        "id": "g0hc4zYhj6_D",
        "outputId": "241c3938-a636-4acc-d7f8-7b8a4eec35f0"
      },
      "source": [
        "y_test[:5]"
      ],
      "execution_count": 40,
      "outputs": [
        {
          "output_type": "execute_result",
          "data": {
            "text/plain": [
              "array([3, 8, 8, 0, 6], dtype=uint8)"
            ]
          },
          "metadata": {
            "tags": []
          },
          "execution_count": 40
        }
      ]
    },
    {
      "cell_type": "code",
      "metadata": {
        "colab": {
          "base_uri": "https://localhost:8080/"
        },
        "id": "zNw4Ey4wj9aP",
        "outputId": "79013375-af79-4515-9c26-6e40ca31a743"
      },
      "source": [
        "from sklearn.metrics import confusion_matrix, classification_report\n",
        "\n",
        "y_pred = model_CNN.predict(X_test)\n",
        "y_pred_classses = [np.argmax(element) for element in y_pred]\n",
        "\n",
        "print(\"Classification Report: \\n\", classification_report(y_test, y_pred_classses))"
      ],
      "execution_count": 41,
      "outputs": [
        {
          "output_type": "stream",
          "text": [
            "Classification Report: \n",
            "               precision    recall  f1-score   support\n",
            "\n",
            "           0       0.66      0.68      0.67      1000\n",
            "           1       0.74      0.72      0.73      1000\n",
            "           2       0.54      0.44      0.48      1000\n",
            "           3       0.46      0.43      0.45      1000\n",
            "           4       0.62      0.43      0.51      1000\n",
            "           5       0.59      0.48      0.53      1000\n",
            "           6       0.53      0.88      0.66      1000\n",
            "           7       0.74      0.66      0.70      1000\n",
            "           8       0.73      0.77      0.75      1000\n",
            "           9       0.65      0.74      0.69      1000\n",
            "\n",
            "    accuracy                           0.62     10000\n",
            "   macro avg       0.63      0.62      0.62     10000\n",
            "weighted avg       0.63      0.62      0.62     10000\n",
            "\n"
          ],
          "name": "stdout"
        }
      ]
    }
  ]
}