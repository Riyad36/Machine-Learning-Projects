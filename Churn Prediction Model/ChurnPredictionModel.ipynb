{
  "nbformat": 4,
  "nbformat_minor": 0,
  "metadata": {
    "colab": {
      "name": "ChurnPredictionModel.ipynb",
      "provenance": [],
      "collapsed_sections": []
    },
    "kernelspec": {
      "name": "python3",
      "display_name": "Python 3"
    },
    "language_info": {
      "name": "python"
    }
  },
  "cells": [
    {
      "cell_type": "code",
      "metadata": {
        "id": "jRR1M7dk6M3f"
      },
      "source": [
        "import numpy as np\n",
        "import pandas as pd\n",
        "from matplotlib import pyplot as plt\n",
        "%matplotlib inline"
      ],
      "execution_count": 3,
      "outputs": []
    },
    {
      "cell_type": "code",
      "metadata": {
        "colab": {
          "base_uri": "https://localhost:8080/",
          "height": 207
        },
        "id": "dLvpq53r7B_j",
        "outputId": "1dbbd37a-e4f9-4321-d6b9-359db48ccf02"
      },
      "source": [
        "df = pd.read_csv(\"WA_Fn-UseC_-Telco-Customer-Churn.csv\")\n",
        "df.head(3)"
      ],
      "execution_count": 4,
      "outputs": [
        {
          "output_type": "execute_result",
          "data": {
            "text/html": [
              "<div>\n",
              "<style scoped>\n",
              "    .dataframe tbody tr th:only-of-type {\n",
              "        vertical-align: middle;\n",
              "    }\n",
              "\n",
              "    .dataframe tbody tr th {\n",
              "        vertical-align: top;\n",
              "    }\n",
              "\n",
              "    .dataframe thead th {\n",
              "        text-align: right;\n",
              "    }\n",
              "</style>\n",
              "<table border=\"1\" class=\"dataframe\">\n",
              "  <thead>\n",
              "    <tr style=\"text-align: right;\">\n",
              "      <th></th>\n",
              "      <th>customerID</th>\n",
              "      <th>gender</th>\n",
              "      <th>SeniorCitizen</th>\n",
              "      <th>Partner</th>\n",
              "      <th>Dependents</th>\n",
              "      <th>tenure</th>\n",
              "      <th>PhoneService</th>\n",
              "      <th>MultipleLines</th>\n",
              "      <th>InternetService</th>\n",
              "      <th>OnlineSecurity</th>\n",
              "      <th>OnlineBackup</th>\n",
              "      <th>DeviceProtection</th>\n",
              "      <th>TechSupport</th>\n",
              "      <th>StreamingTV</th>\n",
              "      <th>StreamingMovies</th>\n",
              "      <th>Contract</th>\n",
              "      <th>PaperlessBilling</th>\n",
              "      <th>PaymentMethod</th>\n",
              "      <th>MonthlyCharges</th>\n",
              "      <th>TotalCharges</th>\n",
              "      <th>Churn</th>\n",
              "    </tr>\n",
              "  </thead>\n",
              "  <tbody>\n",
              "    <tr>\n",
              "      <th>0</th>\n",
              "      <td>7590-VHVEG</td>\n",
              "      <td>Female</td>\n",
              "      <td>0</td>\n",
              "      <td>Yes</td>\n",
              "      <td>No</td>\n",
              "      <td>1</td>\n",
              "      <td>No</td>\n",
              "      <td>No phone service</td>\n",
              "      <td>DSL</td>\n",
              "      <td>No</td>\n",
              "      <td>Yes</td>\n",
              "      <td>No</td>\n",
              "      <td>No</td>\n",
              "      <td>No</td>\n",
              "      <td>No</td>\n",
              "      <td>Month-to-month</td>\n",
              "      <td>Yes</td>\n",
              "      <td>Electronic check</td>\n",
              "      <td>29.85</td>\n",
              "      <td>29.85</td>\n",
              "      <td>No</td>\n",
              "    </tr>\n",
              "    <tr>\n",
              "      <th>1</th>\n",
              "      <td>5575-GNVDE</td>\n",
              "      <td>Male</td>\n",
              "      <td>0</td>\n",
              "      <td>No</td>\n",
              "      <td>No</td>\n",
              "      <td>34</td>\n",
              "      <td>Yes</td>\n",
              "      <td>No</td>\n",
              "      <td>DSL</td>\n",
              "      <td>Yes</td>\n",
              "      <td>No</td>\n",
              "      <td>Yes</td>\n",
              "      <td>No</td>\n",
              "      <td>No</td>\n",
              "      <td>No</td>\n",
              "      <td>One year</td>\n",
              "      <td>No</td>\n",
              "      <td>Mailed check</td>\n",
              "      <td>56.95</td>\n",
              "      <td>1889.5</td>\n",
              "      <td>No</td>\n",
              "    </tr>\n",
              "    <tr>\n",
              "      <th>2</th>\n",
              "      <td>3668-QPYBK</td>\n",
              "      <td>Male</td>\n",
              "      <td>0</td>\n",
              "      <td>No</td>\n",
              "      <td>No</td>\n",
              "      <td>2</td>\n",
              "      <td>Yes</td>\n",
              "      <td>No</td>\n",
              "      <td>DSL</td>\n",
              "      <td>Yes</td>\n",
              "      <td>Yes</td>\n",
              "      <td>No</td>\n",
              "      <td>No</td>\n",
              "      <td>No</td>\n",
              "      <td>No</td>\n",
              "      <td>Month-to-month</td>\n",
              "      <td>Yes</td>\n",
              "      <td>Mailed check</td>\n",
              "      <td>53.85</td>\n",
              "      <td>108.15</td>\n",
              "      <td>Yes</td>\n",
              "    </tr>\n",
              "  </tbody>\n",
              "</table>\n",
              "</div>"
            ],
            "text/plain": [
              "   customerID  gender  SeniorCitizen  ... MonthlyCharges TotalCharges  Churn\n",
              "0  7590-VHVEG  Female              0  ...          29.85        29.85     No\n",
              "1  5575-GNVDE    Male              0  ...          56.95       1889.5     No\n",
              "2  3668-QPYBK    Male              0  ...          53.85       108.15    Yes\n",
              "\n",
              "[3 rows x 21 columns]"
            ]
          },
          "metadata": {
            "tags": []
          },
          "execution_count": 4
        }
      ]
    },
    {
      "cell_type": "code",
      "metadata": {
        "id": "N7GW-2TPA5-h"
      },
      "source": [
        "df.drop('customerID',axis='columns',inplace=True) #inplace = true will update the dataset\n"
      ],
      "execution_count": 5,
      "outputs": []
    },
    {
      "cell_type": "code",
      "metadata": {
        "colab": {
          "base_uri": "https://localhost:8080/"
        },
        "id": "OhyrqNGhBND_",
        "outputId": "97165e6f-a6ae-4389-de48-e0f03f560234"
      },
      "source": [
        "df.dtypes"
      ],
      "execution_count": 6,
      "outputs": [
        {
          "output_type": "execute_result",
          "data": {
            "text/plain": [
              "gender               object\n",
              "SeniorCitizen         int64\n",
              "Partner              object\n",
              "Dependents           object\n",
              "tenure                int64\n",
              "PhoneService         object\n",
              "MultipleLines        object\n",
              "InternetService      object\n",
              "OnlineSecurity       object\n",
              "OnlineBackup         object\n",
              "DeviceProtection     object\n",
              "TechSupport          object\n",
              "StreamingTV          object\n",
              "StreamingMovies      object\n",
              "Contract             object\n",
              "PaperlessBilling     object\n",
              "PaymentMethod        object\n",
              "MonthlyCharges      float64\n",
              "TotalCharges         object\n",
              "Churn                object\n",
              "dtype: object"
            ]
          },
          "metadata": {
            "tags": []
          },
          "execution_count": 6
        }
      ]
    },
    {
      "cell_type": "markdown",
      "metadata": {
        "id": "G0SjoPhjBZsX"
      },
      "source": [
        "total charges are string. we need to conver that into numbers"
      ]
    },
    {
      "cell_type": "code",
      "metadata": {
        "colab": {
          "base_uri": "https://localhost:8080/"
        },
        "id": "ZMuVUVDqBfRI",
        "outputId": "13a8e629-26ee-4c04-90fd-ba3aa1fa1766"
      },
      "source": [
        "pd.to_numeric(df.TotalCharges, errors='coerce').isnull() #errors='coerce' will ignore the errors"
      ],
      "execution_count": 7,
      "outputs": [
        {
          "output_type": "execute_result",
          "data": {
            "text/plain": [
              "0       False\n",
              "1       False\n",
              "2       False\n",
              "3       False\n",
              "4       False\n",
              "        ...  \n",
              "7038    False\n",
              "7039    False\n",
              "7040    False\n",
              "7041    False\n",
              "7042    False\n",
              "Name: TotalCharges, Length: 7043, dtype: bool"
            ]
          },
          "metadata": {
            "tags": []
          },
          "execution_count": 7
        }
      ]
    },
    {
      "cell_type": "code",
      "metadata": {
        "colab": {
          "base_uri": "https://localhost:8080/",
          "height": 546
        },
        "id": "Asn9s1zZCF_P",
        "outputId": "351ceba5-6686-41fe-bd2e-412658327fd1"
      },
      "source": [
        "df[pd.to_numeric(df.TotalCharges, errors='coerce').isnull()]"
      ],
      "execution_count": 8,
      "outputs": [
        {
          "output_type": "execute_result",
          "data": {
            "text/html": [
              "<div>\n",
              "<style scoped>\n",
              "    .dataframe tbody tr th:only-of-type {\n",
              "        vertical-align: middle;\n",
              "    }\n",
              "\n",
              "    .dataframe tbody tr th {\n",
              "        vertical-align: top;\n",
              "    }\n",
              "\n",
              "    .dataframe thead th {\n",
              "        text-align: right;\n",
              "    }\n",
              "</style>\n",
              "<table border=\"1\" class=\"dataframe\">\n",
              "  <thead>\n",
              "    <tr style=\"text-align: right;\">\n",
              "      <th></th>\n",
              "      <th>gender</th>\n",
              "      <th>SeniorCitizen</th>\n",
              "      <th>Partner</th>\n",
              "      <th>Dependents</th>\n",
              "      <th>tenure</th>\n",
              "      <th>PhoneService</th>\n",
              "      <th>MultipleLines</th>\n",
              "      <th>InternetService</th>\n",
              "      <th>OnlineSecurity</th>\n",
              "      <th>OnlineBackup</th>\n",
              "      <th>DeviceProtection</th>\n",
              "      <th>TechSupport</th>\n",
              "      <th>StreamingTV</th>\n",
              "      <th>StreamingMovies</th>\n",
              "      <th>Contract</th>\n",
              "      <th>PaperlessBilling</th>\n",
              "      <th>PaymentMethod</th>\n",
              "      <th>MonthlyCharges</th>\n",
              "      <th>TotalCharges</th>\n",
              "      <th>Churn</th>\n",
              "    </tr>\n",
              "  </thead>\n",
              "  <tbody>\n",
              "    <tr>\n",
              "      <th>488</th>\n",
              "      <td>Female</td>\n",
              "      <td>0</td>\n",
              "      <td>Yes</td>\n",
              "      <td>Yes</td>\n",
              "      <td>0</td>\n",
              "      <td>No</td>\n",
              "      <td>No phone service</td>\n",
              "      <td>DSL</td>\n",
              "      <td>Yes</td>\n",
              "      <td>No</td>\n",
              "      <td>Yes</td>\n",
              "      <td>Yes</td>\n",
              "      <td>Yes</td>\n",
              "      <td>No</td>\n",
              "      <td>Two year</td>\n",
              "      <td>Yes</td>\n",
              "      <td>Bank transfer (automatic)</td>\n",
              "      <td>52.55</td>\n",
              "      <td></td>\n",
              "      <td>No</td>\n",
              "    </tr>\n",
              "    <tr>\n",
              "      <th>753</th>\n",
              "      <td>Male</td>\n",
              "      <td>0</td>\n",
              "      <td>No</td>\n",
              "      <td>Yes</td>\n",
              "      <td>0</td>\n",
              "      <td>Yes</td>\n",
              "      <td>No</td>\n",
              "      <td>No</td>\n",
              "      <td>No internet service</td>\n",
              "      <td>No internet service</td>\n",
              "      <td>No internet service</td>\n",
              "      <td>No internet service</td>\n",
              "      <td>No internet service</td>\n",
              "      <td>No internet service</td>\n",
              "      <td>Two year</td>\n",
              "      <td>No</td>\n",
              "      <td>Mailed check</td>\n",
              "      <td>20.25</td>\n",
              "      <td></td>\n",
              "      <td>No</td>\n",
              "    </tr>\n",
              "    <tr>\n",
              "      <th>936</th>\n",
              "      <td>Female</td>\n",
              "      <td>0</td>\n",
              "      <td>Yes</td>\n",
              "      <td>Yes</td>\n",
              "      <td>0</td>\n",
              "      <td>Yes</td>\n",
              "      <td>No</td>\n",
              "      <td>DSL</td>\n",
              "      <td>Yes</td>\n",
              "      <td>Yes</td>\n",
              "      <td>Yes</td>\n",
              "      <td>No</td>\n",
              "      <td>Yes</td>\n",
              "      <td>Yes</td>\n",
              "      <td>Two year</td>\n",
              "      <td>No</td>\n",
              "      <td>Mailed check</td>\n",
              "      <td>80.85</td>\n",
              "      <td></td>\n",
              "      <td>No</td>\n",
              "    </tr>\n",
              "    <tr>\n",
              "      <th>1082</th>\n",
              "      <td>Male</td>\n",
              "      <td>0</td>\n",
              "      <td>Yes</td>\n",
              "      <td>Yes</td>\n",
              "      <td>0</td>\n",
              "      <td>Yes</td>\n",
              "      <td>Yes</td>\n",
              "      <td>No</td>\n",
              "      <td>No internet service</td>\n",
              "      <td>No internet service</td>\n",
              "      <td>No internet service</td>\n",
              "      <td>No internet service</td>\n",
              "      <td>No internet service</td>\n",
              "      <td>No internet service</td>\n",
              "      <td>Two year</td>\n",
              "      <td>No</td>\n",
              "      <td>Mailed check</td>\n",
              "      <td>25.75</td>\n",
              "      <td></td>\n",
              "      <td>No</td>\n",
              "    </tr>\n",
              "    <tr>\n",
              "      <th>1340</th>\n",
              "      <td>Female</td>\n",
              "      <td>0</td>\n",
              "      <td>Yes</td>\n",
              "      <td>Yes</td>\n",
              "      <td>0</td>\n",
              "      <td>No</td>\n",
              "      <td>No phone service</td>\n",
              "      <td>DSL</td>\n",
              "      <td>Yes</td>\n",
              "      <td>Yes</td>\n",
              "      <td>Yes</td>\n",
              "      <td>Yes</td>\n",
              "      <td>Yes</td>\n",
              "      <td>No</td>\n",
              "      <td>Two year</td>\n",
              "      <td>No</td>\n",
              "      <td>Credit card (automatic)</td>\n",
              "      <td>56.05</td>\n",
              "      <td></td>\n",
              "      <td>No</td>\n",
              "    </tr>\n",
              "    <tr>\n",
              "      <th>3331</th>\n",
              "      <td>Male</td>\n",
              "      <td>0</td>\n",
              "      <td>Yes</td>\n",
              "      <td>Yes</td>\n",
              "      <td>0</td>\n",
              "      <td>Yes</td>\n",
              "      <td>No</td>\n",
              "      <td>No</td>\n",
              "      <td>No internet service</td>\n",
              "      <td>No internet service</td>\n",
              "      <td>No internet service</td>\n",
              "      <td>No internet service</td>\n",
              "      <td>No internet service</td>\n",
              "      <td>No internet service</td>\n",
              "      <td>Two year</td>\n",
              "      <td>No</td>\n",
              "      <td>Mailed check</td>\n",
              "      <td>19.85</td>\n",
              "      <td></td>\n",
              "      <td>No</td>\n",
              "    </tr>\n",
              "    <tr>\n",
              "      <th>3826</th>\n",
              "      <td>Male</td>\n",
              "      <td>0</td>\n",
              "      <td>Yes</td>\n",
              "      <td>Yes</td>\n",
              "      <td>0</td>\n",
              "      <td>Yes</td>\n",
              "      <td>Yes</td>\n",
              "      <td>No</td>\n",
              "      <td>No internet service</td>\n",
              "      <td>No internet service</td>\n",
              "      <td>No internet service</td>\n",
              "      <td>No internet service</td>\n",
              "      <td>No internet service</td>\n",
              "      <td>No internet service</td>\n",
              "      <td>Two year</td>\n",
              "      <td>No</td>\n",
              "      <td>Mailed check</td>\n",
              "      <td>25.35</td>\n",
              "      <td></td>\n",
              "      <td>No</td>\n",
              "    </tr>\n",
              "    <tr>\n",
              "      <th>4380</th>\n",
              "      <td>Female</td>\n",
              "      <td>0</td>\n",
              "      <td>Yes</td>\n",
              "      <td>Yes</td>\n",
              "      <td>0</td>\n",
              "      <td>Yes</td>\n",
              "      <td>No</td>\n",
              "      <td>No</td>\n",
              "      <td>No internet service</td>\n",
              "      <td>No internet service</td>\n",
              "      <td>No internet service</td>\n",
              "      <td>No internet service</td>\n",
              "      <td>No internet service</td>\n",
              "      <td>No internet service</td>\n",
              "      <td>Two year</td>\n",
              "      <td>No</td>\n",
              "      <td>Mailed check</td>\n",
              "      <td>20.00</td>\n",
              "      <td></td>\n",
              "      <td>No</td>\n",
              "    </tr>\n",
              "    <tr>\n",
              "      <th>5218</th>\n",
              "      <td>Male</td>\n",
              "      <td>0</td>\n",
              "      <td>Yes</td>\n",
              "      <td>Yes</td>\n",
              "      <td>0</td>\n",
              "      <td>Yes</td>\n",
              "      <td>No</td>\n",
              "      <td>No</td>\n",
              "      <td>No internet service</td>\n",
              "      <td>No internet service</td>\n",
              "      <td>No internet service</td>\n",
              "      <td>No internet service</td>\n",
              "      <td>No internet service</td>\n",
              "      <td>No internet service</td>\n",
              "      <td>One year</td>\n",
              "      <td>Yes</td>\n",
              "      <td>Mailed check</td>\n",
              "      <td>19.70</td>\n",
              "      <td></td>\n",
              "      <td>No</td>\n",
              "    </tr>\n",
              "    <tr>\n",
              "      <th>6670</th>\n",
              "      <td>Female</td>\n",
              "      <td>0</td>\n",
              "      <td>Yes</td>\n",
              "      <td>Yes</td>\n",
              "      <td>0</td>\n",
              "      <td>Yes</td>\n",
              "      <td>Yes</td>\n",
              "      <td>DSL</td>\n",
              "      <td>No</td>\n",
              "      <td>Yes</td>\n",
              "      <td>Yes</td>\n",
              "      <td>Yes</td>\n",
              "      <td>Yes</td>\n",
              "      <td>No</td>\n",
              "      <td>Two year</td>\n",
              "      <td>No</td>\n",
              "      <td>Mailed check</td>\n",
              "      <td>73.35</td>\n",
              "      <td></td>\n",
              "      <td>No</td>\n",
              "    </tr>\n",
              "    <tr>\n",
              "      <th>6754</th>\n",
              "      <td>Male</td>\n",
              "      <td>0</td>\n",
              "      <td>No</td>\n",
              "      <td>Yes</td>\n",
              "      <td>0</td>\n",
              "      <td>Yes</td>\n",
              "      <td>Yes</td>\n",
              "      <td>DSL</td>\n",
              "      <td>Yes</td>\n",
              "      <td>Yes</td>\n",
              "      <td>No</td>\n",
              "      <td>Yes</td>\n",
              "      <td>No</td>\n",
              "      <td>No</td>\n",
              "      <td>Two year</td>\n",
              "      <td>Yes</td>\n",
              "      <td>Bank transfer (automatic)</td>\n",
              "      <td>61.90</td>\n",
              "      <td></td>\n",
              "      <td>No</td>\n",
              "    </tr>\n",
              "  </tbody>\n",
              "</table>\n",
              "</div>"
            ],
            "text/plain": [
              "      gender  SeniorCitizen Partner  ... MonthlyCharges  TotalCharges Churn\n",
              "488   Female              0     Yes  ...          52.55                  No\n",
              "753     Male              0      No  ...          20.25                  No\n",
              "936   Female              0     Yes  ...          80.85                  No\n",
              "1082    Male              0     Yes  ...          25.75                  No\n",
              "1340  Female              0     Yes  ...          56.05                  No\n",
              "3331    Male              0     Yes  ...          19.85                  No\n",
              "3826    Male              0     Yes  ...          25.35                  No\n",
              "4380  Female              0     Yes  ...          20.00                  No\n",
              "5218    Male              0     Yes  ...          19.70                  No\n",
              "6670  Female              0     Yes  ...          73.35                  No\n",
              "6754    Male              0      No  ...          61.90                  No\n",
              "\n",
              "[11 rows x 20 columns]"
            ]
          },
          "metadata": {
            "tags": []
          },
          "execution_count": 8
        }
      ]
    },
    {
      "cell_type": "markdown",
      "metadata": {
        "id": "wyMgHGpVCJ3R"
      },
      "source": [
        "we will drop that rows. So will keep only that rows of the total which has no null values"
      ]
    },
    {
      "cell_type": "code",
      "metadata": {
        "colab": {
          "base_uri": "https://localhost:8080/"
        },
        "id": "lyDjTpYLCJbZ",
        "outputId": "1adde3dd-707e-4719-c195-4398ae993952"
      },
      "source": [
        "df1 = df[df.TotalCharges!=' ']\n",
        "df1.shape"
      ],
      "execution_count": 9,
      "outputs": [
        {
          "output_type": "execute_result",
          "data": {
            "text/plain": [
              "(7032, 20)"
            ]
          },
          "metadata": {
            "tags": []
          },
          "execution_count": 9
        }
      ]
    },
    {
      "cell_type": "code",
      "metadata": {
        "colab": {
          "base_uri": "https://localhost:8080/"
        },
        "id": "TCqlLqB9dA7G",
        "outputId": "e2599751-6aa2-44b9-fc97-4558d1de8aae"
      },
      "source": [
        "df1.TotalCharges = pd.to_numeric(df1.TotalCharges)"
      ],
      "execution_count": 10,
      "outputs": [
        {
          "output_type": "stream",
          "text": [
            "/usr/local/lib/python3.7/dist-packages/pandas/core/generic.py:5170: SettingWithCopyWarning: \n",
            "A value is trying to be set on a copy of a slice from a DataFrame.\n",
            "Try using .loc[row_indexer,col_indexer] = value instead\n",
            "\n",
            "See the caveats in the documentation: https://pandas.pydata.org/pandas-docs/stable/user_guide/indexing.html#returning-a-view-versus-a-copy\n",
            "  self[name] = value\n"
          ],
          "name": "stderr"
        }
      ]
    },
    {
      "cell_type": "code",
      "metadata": {
        "colab": {
          "base_uri": "https://localhost:8080/"
        },
        "id": "gwNO-Z7kdiy_",
        "outputId": "14e78e06-5765-413e-f201-78c7203681d4"
      },
      "source": [
        "df1.dtypes"
      ],
      "execution_count": 11,
      "outputs": [
        {
          "output_type": "execute_result",
          "data": {
            "text/plain": [
              "gender               object\n",
              "SeniorCitizen         int64\n",
              "Partner              object\n",
              "Dependents           object\n",
              "tenure                int64\n",
              "PhoneService         object\n",
              "MultipleLines        object\n",
              "InternetService      object\n",
              "OnlineSecurity       object\n",
              "OnlineBackup         object\n",
              "DeviceProtection     object\n",
              "TechSupport          object\n",
              "StreamingTV          object\n",
              "StreamingMovies      object\n",
              "Contract             object\n",
              "PaperlessBilling     object\n",
              "PaymentMethod        object\n",
              "MonthlyCharges      float64\n",
              "TotalCharges        float64\n",
              "Churn                object\n",
              "dtype: object"
            ]
          },
          "metadata": {
            "tags": []
          },
          "execution_count": 11
        }
      ]
    },
    {
      "cell_type": "code",
      "metadata": {
        "id": "8PDXJ1zfd768"
      },
      "source": [
        "tenure_churn_no = df1[df1.Churn == 'No'].tenure\n",
        "tenure_churn_yes = df1[df1.Churn == 'Yes'].tenure"
      ],
      "execution_count": 12,
      "outputs": []
    },
    {
      "cell_type": "code",
      "metadata": {
        "colab": {
          "base_uri": "https://localhost:8080/",
          "height": 365
        },
        "id": "zEHRPOWLeuQb",
        "outputId": "1ff45bf8-7253-497a-aa7d-e2e1264874d5"
      },
      "source": [
        "plt.xlabel(\"tenure\")\n",
        "plt.ylabel(\"Number of Customer\")\n",
        "plt.title(\"Customer Churn Visualization\")\n",
        "\n",
        "plt.hist([tenure_churn_yes, tenure_churn_no], color=['green', 'red'], label=['Churn = Yes', 'Churn = No'])\n",
        "plt.legend()"
      ],
      "execution_count": 13,
      "outputs": [
        {
          "output_type": "stream",
          "text": [
            "/usr/local/lib/python3.7/dist-packages/numpy/core/_asarray.py:83: VisibleDeprecationWarning: Creating an ndarray from ragged nested sequences (which is a list-or-tuple of lists-or-tuples-or ndarrays with different lengths or shapes) is deprecated. If you meant to do this, you must specify 'dtype=object' when creating the ndarray\n",
            "  return array(a, dtype, copy=False, order=order)\n"
          ],
          "name": "stderr"
        },
        {
          "output_type": "execute_result",
          "data": {
            "text/plain": [
              "<matplotlib.legend.Legend at 0x7f54226bd610>"
            ]
          },
          "metadata": {
            "tags": []
          },
          "execution_count": 13
        },
        {
          "output_type": "display_data",
          "data": {
            "image/png": "[encoded data removed]",
            "text/plain": [
              "<Figure size 432x288 with 1 Axes>"
            ]
          },
          "metadata": {
            "tags": [],
            "needs_background": "light"
          }
        }
      ]
    },
    {
      "cell_type": "code",
      "metadata": {
        "colab": {
          "base_uri": "https://localhost:8080/",
          "height": 365
        },
        "id": "0ZeiWt0qgLfs",
        "outputId": "5abd6e95-c0c3-4c1e-98a8-d068cefee19b"
      },
      "source": [
        "mc_churn_no = df1[df1.Churn == 'No'].MonthlyCharges\n",
        "mc_churn_yes = df1[df1.Churn == 'Yes'].MonthlyCharges\n",
        "\n",
        "plt.xlabel(\"Monthly Charges\")\n",
        "plt.ylabel(\"Number of Customer\")\n",
        "plt.title(\"Customer Churn visualization\")\n",
        "\n",
        "plt.hist([mc_churn_yes, mc_churn_no], color=['green', 'red'], label=['Churn = Yes','Churn = No'])\n",
        "plt.legend()"
      ],
      "execution_count": 14,
      "outputs": [
        {
          "output_type": "stream",
          "text": [
            "/usr/local/lib/python3.7/dist-packages/numpy/core/_asarray.py:83: VisibleDeprecationWarning: Creating an ndarray from ragged nested sequences (which is a list-or-tuple of lists-or-tuples-or ndarrays with different lengths or shapes) is deprecated. If you meant to do this, you must specify 'dtype=object' when creating the ndarray\n",
            "  return array(a, dtype, copy=False, order=order)\n"
          ],
          "name": "stderr"
        },
        {
          "output_type": "execute_result",
          "data": {
            "text/plain": [
              "<matplotlib.legend.Legend at 0x7f5422181e50>"
            ]
          },
          "metadata": {
            "tags": []
          },
          "execution_count": 14
        },
        {
          "output_type": "display_data",
          "data": {
            "image/png": "[encoded data removed]",
            "text/plain": [
              "<Figure size 432x288 with 1 Axes>"
            ]
          },
          "metadata": {
            "tags": [],
            "needs_background": "light"
          }
        }
      ]
    },
    {
      "cell_type": "code",
      "metadata": {
        "id": "ungyrvzWhVXc"
      },
      "source": [
        "def print_unique_values(df):\n",
        "  for column in df:\n",
        "    if df[column].dtypes == 'object':\n",
        "      print(f'{column} : {df[column].unique()}')"
      ],
      "execution_count": 15,
      "outputs": []
    },
    {
      "cell_type": "code",
      "metadata": {
        "colab": {
          "base_uri": "https://localhost:8080/"
        },
        "id": "rJ0uE5njigQ1",
        "outputId": "c30d808f-e0a5-4e8d-a2c6-b4ed684bfdb3"
      },
      "source": [
        "print_unique_values(df1)"
      ],
      "execution_count": 16,
      "outputs": [
        {
          "output_type": "stream",
          "text": [
            "gender : ['Female' 'Male']\n",
            "Partner : ['Yes' 'No']\n",
            "Dependents : ['No' 'Yes']\n",
            "PhoneService : ['No' 'Yes']\n",
            "MultipleLines : ['No phone service' 'No' 'Yes']\n",
            "InternetService : ['DSL' 'Fiber optic' 'No']\n",
            "OnlineSecurity : ['No' 'Yes' 'No internet service']\n",
            "OnlineBackup : ['Yes' 'No' 'No internet service']\n",
            "DeviceProtection : ['No' 'Yes' 'No internet service']\n",
            "TechSupport : ['No' 'Yes' 'No internet service']\n",
            "StreamingTV : ['No' 'Yes' 'No internet service']\n",
            "StreamingMovies : ['No' 'Yes' 'No internet service']\n",
            "Contract : ['Month-to-month' 'One year' 'Two year']\n",
            "PaperlessBilling : ['Yes' 'No']\n",
            "PaymentMethod : ['Electronic check' 'Mailed check' 'Bank transfer (automatic)'\n",
            " 'Credit card (automatic)']\n",
            "Churn : ['No' 'Yes']\n"
          ],
          "name": "stdout"
        }
      ]
    },
    {
      "cell_type": "markdown",
      "metadata": {
        "id": "YdwDb8mvjBda"
      },
      "source": [
        "We will replace all the \"No internet service\" and 'No Phone Service' with 'No' "
      ]
    },
    {
      "cell_type": "code",
      "metadata": {
        "colab": {
          "base_uri": "https://localhost:8080/"
        },
        "id": "EaqfC7M0jJA_",
        "outputId": "b9a51b32-ecc0-4435-cd7e-a0250e110dab"
      },
      "source": [
        "df1.replace('No internet service','No',inplace=True)\n",
        "df1.replace('No phone service','No',inplace=True)"
      ],
      "execution_count": 17,
      "outputs": [
        {
          "output_type": "stream",
          "text": [
            "/usr/local/lib/python3.7/dist-packages/pandas/core/frame.py:4389: SettingWithCopyWarning: \n",
            "A value is trying to be set on a copy of a slice from a DataFrame\n",
            "\n",
            "See the caveats in the documentation: https://pandas.pydata.org/pandas-docs/stable/user_guide/indexing.html#returning-a-view-versus-a-copy\n",
            "  method=method,\n"
          ],
          "name": "stderr"
        }
      ]
    },
    {
      "cell_type": "code",
      "metadata": {
        "colab": {
          "base_uri": "https://localhost:8080/"
        },
        "id": "HGPsjzedjoDV",
        "outputId": "7a25db47-fe68-4be4-fb12-c62a0e86f65b"
      },
      "source": [
        "print_unique_values(df1)"
      ],
      "execution_count": 18,
      "outputs": [
        {
          "output_type": "stream",
          "text": [
            "gender : ['Female' 'Male']\n",
            "Partner : ['Yes' 'No']\n",
            "Dependents : ['No' 'Yes']\n",
            "PhoneService : ['No' 'Yes']\n",
            "MultipleLines : ['No' 'Yes']\n",
            "InternetService : ['DSL' 'Fiber optic' 'No']\n",
            "OnlineSecurity : ['No' 'Yes']\n",
            "OnlineBackup : ['Yes' 'No']\n",
            "DeviceProtection : ['No' 'Yes']\n",
            "TechSupport : ['No' 'Yes']\n",
            "StreamingTV : ['No' 'Yes']\n",
            "StreamingMovies : ['No' 'Yes']\n",
            "Contract : ['Month-to-month' 'One year' 'Two year']\n",
            "PaperlessBilling : ['Yes' 'No']\n",
            "PaymentMethod : ['Electronic check' 'Mailed check' 'Bank transfer (automatic)'\n",
            " 'Credit card (automatic)']\n",
            "Churn : ['No' 'Yes']\n"
          ],
          "name": "stdout"
        }
      ]
    },
    {
      "cell_type": "markdown",
      "metadata": {
        "id": "ce1WeiB7kJsl"
      },
      "source": [
        "Now I will convert all the yes/no coumns with 1/0"
      ]
    },
    {
      "cell_type": "code",
      "metadata": {
        "colab": {
          "base_uri": "https://localhost:8080/"
        },
        "id": "6scyHSV_kPfD",
        "outputId": "e76b70d8-9f6c-49ec-9d27-12ac4cf61bd8"
      },
      "source": [
        "yes_no_columns = ['Partner','Dependents','PhoneService','MultipleLines','OnlineSecurity','OnlineBackup','DeviceProtection','TechSupport','StreamingTV','StreamingMovies','PaperlessBilling','Churn']\n",
        "\n",
        "for column in yes_no_columns:\n",
        "  df1[column].replace({'Yes':1,'No':0},inplace=True)"
      ],
      "execution_count": 19,
      "outputs": [
        {
          "output_type": "stream",
          "text": [
            "/usr/local/lib/python3.7/dist-packages/pandas/core/series.py:4582: SettingWithCopyWarning: \n",
            "A value is trying to be set on a copy of a slice from a DataFrame\n",
            "\n",
            "See the caveats in the documentation: https://pandas.pydata.org/pandas-docs/stable/user_guide/indexing.html#returning-a-view-versus-a-copy\n",
            "  method=method,\n"
          ],
          "name": "stderr"
        }
      ]
    },
    {
      "cell_type": "code",
      "metadata": {
        "colab": {
          "base_uri": "https://localhost:8080/"
        },
        "id": "0743cvzGsEXx",
        "outputId": "23e56332-5e0d-4f0c-9857-f037f9096c83"
      },
      "source": [
        "for column in df1:\n",
        "  print(f' {column} : {df1[column].unique()}')"
      ],
      "execution_count": 20,
      "outputs": [
        {
          "output_type": "stream",
          "text": [
            " gender : ['Female' 'Male']\n",
            " SeniorCitizen : [0 1]\n",
            " Partner : [1 0]\n",
            " Dependents : [0 1]\n",
            " tenure : [ 1 34  2 45  8 22 10 28 62 13 16 58 49 25 69 52 71 21 12 30 47 72 17 27\n",
            "  5 46 11 70 63 43 15 60 18 66  9  3 31 50 64 56  7 42 35 48 29 65 38 68\n",
            " 32 55 37 36 41  6  4 33 67 23 57 61 14 20 53 40 59 24 44 19 54 51 26 39]\n",
            " PhoneService : [0 1]\n",
            " MultipleLines : [0 1]\n",
            " InternetService : ['DSL' 'Fiber optic' 'No']\n",
            " OnlineSecurity : [0 1]\n",
            " OnlineBackup : [1 0]\n",
            " DeviceProtection : [0 1]\n",
            " TechSupport : [0 1]\n",
            " StreamingTV : [0 1]\n",
            " StreamingMovies : [0 1]\n",
            " Contract : ['Month-to-month' 'One year' 'Two year']\n",
            " PaperlessBilling : [1 0]\n",
            " PaymentMethod : ['Electronic check' 'Mailed check' 'Bank transfer (automatic)'\n",
            " 'Credit card (automatic)']\n",
            " MonthlyCharges : [29.85 56.95 53.85 ... 63.1  44.2  78.7 ]\n",
            " TotalCharges : [  29.85 1889.5   108.15 ...  346.45  306.6  6844.5 ]\n",
            " Churn : [0 1]\n"
          ],
          "name": "stdout"
        }
      ]
    },
    {
      "cell_type": "code",
      "metadata": {
        "colab": {
          "base_uri": "https://localhost:8080/"
        },
        "id": "7MA3V2ApslBS",
        "outputId": "2dbd3038-4610-4a49-aa77-7de0cb70b4e5"
      },
      "source": [
        "print_unique_values(df1)"
      ],
      "execution_count": 21,
      "outputs": [
        {
          "output_type": "stream",
          "text": [
            "gender : ['Female' 'Male']\n",
            "InternetService : ['DSL' 'Fiber optic' 'No']\n",
            "Contract : ['Month-to-month' 'One year' 'Two year']\n",
            "PaymentMethod : ['Electronic check' 'Mailed check' 'Bank transfer (automatic)'\n",
            " 'Credit card (automatic)']\n"
          ],
          "name": "stdout"
        }
      ]
    },
    {
      "cell_type": "code",
      "metadata": {
        "colab": {
          "base_uri": "https://localhost:8080/"
        },
        "id": "tjKf81uKstPg",
        "outputId": "46341548-4708-40d4-e540-f74ff209f5f1"
      },
      "source": [
        "df1['gender'].replace({'Female':1, 'Male':0},inplace=True)"
      ],
      "execution_count": 22,
      "outputs": [
        {
          "output_type": "stream",
          "text": [
            "/usr/local/lib/python3.7/dist-packages/pandas/core/series.py:4582: SettingWithCopyWarning: \n",
            "A value is trying to be set on a copy of a slice from a DataFrame\n",
            "\n",
            "See the caveats in the documentation: https://pandas.pydata.org/pandas-docs/stable/user_guide/indexing.html#returning-a-view-versus-a-copy\n",
            "  method=method,\n"
          ],
          "name": "stderr"
        }
      ]
    },
    {
      "cell_type": "code",
      "metadata": {
        "colab": {
          "base_uri": "https://localhost:8080/"
        },
        "id": "57Ge-JPctFoQ",
        "outputId": "c5501086-5b3e-4936-a046-9c8b956227d0"
      },
      "source": [
        "df1.gender.unique()"
      ],
      "execution_count": 23,
      "outputs": [
        {
          "output_type": "execute_result",
          "data": {
            "text/plain": [
              "array([1, 0])"
            ]
          },
          "metadata": {
            "tags": []
          },
          "execution_count": 23
        }
      ]
    },
    {
      "cell_type": "code",
      "metadata": {
        "colab": {
          "base_uri": "https://localhost:8080/"
        },
        "id": "AZUsXy_StlHn",
        "outputId": "0aff27b3-718a-4cc4-fb0a-df545dee881d"
      },
      "source": [
        "df2 = pd.get_dummies(data=df1, columns=['InternetService', 'Contract', 'PaymentMethod'])\n",
        "df2.columns"
      ],
      "execution_count": 24,
      "outputs": [
        {
          "output_type": "execute_result",
          "data": {
            "text/plain": [
              "Index(['gender', 'SeniorCitizen', 'Partner', 'Dependents', 'tenure',\n",
              "       'PhoneService', 'MultipleLines', 'OnlineSecurity', 'OnlineBackup',\n",
              "       'DeviceProtection', 'TechSupport', 'StreamingTV', 'StreamingMovies',\n",
              "       'PaperlessBilling', 'MonthlyCharges', 'TotalCharges', 'Churn',\n",
              "       'InternetService_DSL', 'InternetService_Fiber optic',\n",
              "       'InternetService_No', 'Contract_Month-to-month', 'Contract_One year',\n",
              "       'Contract_Two year', 'PaymentMethod_Bank transfer (automatic)',\n",
              "       'PaymentMethod_Credit card (automatic)',\n",
              "       'PaymentMethod_Electronic check', 'PaymentMethod_Mailed check'],\n",
              "      dtype='object')"
            ]
          },
          "metadata": {
            "tags": []
          },
          "execution_count": 24
        }
      ]
    },
    {
      "cell_type": "code",
      "metadata": {
        "colab": {
          "base_uri": "https://localhost:8080/"
        },
        "id": "WTuqSVUHt9g7",
        "outputId": "d1ea76b7-4f02-4f31-c74c-16c84b559212"
      },
      "source": [
        "df2.shape"
      ],
      "execution_count": 25,
      "outputs": [
        {
          "output_type": "execute_result",
          "data": {
            "text/plain": [
              "(7032, 27)"
            ]
          },
          "metadata": {
            "tags": []
          },
          "execution_count": 25
        }
      ]
    },
    {
      "cell_type": "markdown",
      "metadata": {
        "id": "C4iSZLcduXDB"
      },
      "source": [
        "Now we need to scale to values "
      ]
    },
    {
      "cell_type": "code",
      "metadata": {
        "id": "AZOBeiVruaW5"
      },
      "source": [
        "cols_to_scale = ['tenure', 'MonthlyCharges', 'TotalCharges']\n",
        "\n",
        "from sklearn.preprocessing import MinMaxScaler\n",
        "scaler = MinMaxScaler()\n",
        "\n",
        "df2[cols_to_scale] = scaler.fit_transform(df2[cols_to_scale])"
      ],
      "execution_count": 26,
      "outputs": []
    },
    {
      "cell_type": "code",
      "metadata": {
        "colab": {
          "base_uri": "https://localhost:8080/",
          "height": 190
        },
        "id": "qsxbyZgBvOqJ",
        "outputId": "32f89d52-eec6-4d0e-80c1-b15a569eba80"
      },
      "source": [
        "df2.head(3)"
      ],
      "execution_count": 27,
      "outputs": [
        {
          "output_type": "execute_result",
          "data": {
            "text/html": [
              "<div>\n",
              "<style scoped>\n",
              "    .dataframe tbody tr th:only-of-type {\n",
              "        vertical-align: middle;\n",
              "    }\n",
              "\n",
              "    .dataframe tbody tr th {\n",
              "        vertical-align: top;\n",
              "    }\n",
              "\n",
              "    .dataframe thead th {\n",
              "        text-align: right;\n",
              "    }\n",
              "</style>\n",
              "<table border=\"1\" class=\"dataframe\">\n",
              "  <thead>\n",
              "    <tr style=\"text-align: right;\">\n",
              "      <th></th>\n",
              "      <th>gender</th>\n",
              "      <th>SeniorCitizen</th>\n",
              "      <th>Partner</th>\n",
              "      <th>Dependents</th>\n",
              "      <th>tenure</th>\n",
              "      <th>PhoneService</th>\n",
              "      <th>MultipleLines</th>\n",
              "      <th>OnlineSecurity</th>\n",
              "      <th>OnlineBackup</th>\n",
              "      <th>DeviceProtection</th>\n",
              "      <th>TechSupport</th>\n",
              "      <th>StreamingTV</th>\n",
              "      <th>StreamingMovies</th>\n",
              "      <th>PaperlessBilling</th>\n",
              "      <th>MonthlyCharges</th>\n",
              "      <th>TotalCharges</th>\n",
              "      <th>Churn</th>\n",
              "      <th>InternetService_DSL</th>\n",
              "      <th>InternetService_Fiber optic</th>\n",
              "      <th>InternetService_No</th>\n",
              "      <th>Contract_Month-to-month</th>\n",
              "      <th>Contract_One year</th>\n",
              "      <th>Contract_Two year</th>\n",
              "      <th>PaymentMethod_Bank transfer (automatic)</th>\n",
              "      <th>PaymentMethod_Credit card (automatic)</th>\n",
              "      <th>PaymentMethod_Electronic check</th>\n",
              "      <th>PaymentMethod_Mailed check</th>\n",
              "    </tr>\n",
              "  </thead>\n",
              "  <tbody>\n",
              "    <tr>\n",
              "      <th>0</th>\n",
              "      <td>1</td>\n",
              "      <td>0</td>\n",
              "      <td>1</td>\n",
              "      <td>0</td>\n",
              "      <td>0.000000</td>\n",
              "      <td>0</td>\n",
              "      <td>0</td>\n",
              "      <td>0</td>\n",
              "      <td>1</td>\n",
              "      <td>0</td>\n",
              "      <td>0</td>\n",
              "      <td>0</td>\n",
              "      <td>0</td>\n",
              "      <td>1</td>\n",
              "      <td>0.115423</td>\n",
              "      <td>0.001275</td>\n",
              "      <td>0</td>\n",
              "      <td>1</td>\n",
              "      <td>0</td>\n",
              "      <td>0</td>\n",
              "      <td>1</td>\n",
              "      <td>0</td>\n",
              "      <td>0</td>\n",
              "      <td>0</td>\n",
              "      <td>0</td>\n",
              "      <td>1</td>\n",
              "      <td>0</td>\n",
              "    </tr>\n",
              "    <tr>\n",
              "      <th>1</th>\n",
              "      <td>0</td>\n",
              "      <td>0</td>\n",
              "      <td>0</td>\n",
              "      <td>0</td>\n",
              "      <td>0.464789</td>\n",
              "      <td>1</td>\n",
              "      <td>0</td>\n",
              "      <td>1</td>\n",
              "      <td>0</td>\n",
              "      <td>1</td>\n",
              "      <td>0</td>\n",
              "      <td>0</td>\n",
              "      <td>0</td>\n",
              "      <td>0</td>\n",
              "      <td>0.385075</td>\n",
              "      <td>0.215867</td>\n",
              "      <td>0</td>\n",
              "      <td>1</td>\n",
              "      <td>0</td>\n",
              "      <td>0</td>\n",
              "      <td>0</td>\n",
              "      <td>1</td>\n",
              "      <td>0</td>\n",
              "      <td>0</td>\n",
              "      <td>0</td>\n",
              "      <td>0</td>\n",
              "      <td>1</td>\n",
              "    </tr>\n",
              "    <tr>\n",
              "      <th>2</th>\n",
              "      <td>0</td>\n",
              "      <td>0</td>\n",
              "      <td>0</td>\n",
              "      <td>0</td>\n",
              "      <td>0.014085</td>\n",
              "      <td>1</td>\n",
              "      <td>0</td>\n",
              "      <td>1</td>\n",
              "      <td>1</td>\n",
              "      <td>0</td>\n",
              "      <td>0</td>\n",
              "      <td>0</td>\n",
              "      <td>0</td>\n",
              "      <td>1</td>\n",
              "      <td>0.354229</td>\n",
              "      <td>0.010310</td>\n",
              "      <td>1</td>\n",
              "      <td>1</td>\n",
              "      <td>0</td>\n",
              "      <td>0</td>\n",
              "      <td>1</td>\n",
              "      <td>0</td>\n",
              "      <td>0</td>\n",
              "      <td>0</td>\n",
              "      <td>0</td>\n",
              "      <td>0</td>\n",
              "      <td>1</td>\n",
              "    </tr>\n",
              "  </tbody>\n",
              "</table>\n",
              "</div>"
            ],
            "text/plain": [
              "   gender  ...  PaymentMethod_Mailed check\n",
              "0       1  ...                           0\n",
              "1       0  ...                           1\n",
              "2       0  ...                           1\n",
              "\n",
              "[3 rows x 27 columns]"
            ]
          },
          "metadata": {
            "tags": []
          },
          "execution_count": 27
        }
      ]
    },
    {
      "cell_type": "code",
      "metadata": {
        "id": "-YGnWr4qvcHi"
      },
      "source": [
        "X = df2.drop('Churn', axis='columns')\n",
        "Y = df2['Churn']"
      ],
      "execution_count": 28,
      "outputs": []
    },
    {
      "cell_type": "code",
      "metadata": {
        "id": "lNnR6JWDv0NR"
      },
      "source": [
        "from sklearn.model_selection import train_test_split\n",
        "X_train, X_test, Y_train, Y_test = train_test_split(X, Y, test_size=0.2, random_state=5)"
      ],
      "execution_count": 29,
      "outputs": []
    },
    {
      "cell_type": "code",
      "metadata": {
        "colab": {
          "base_uri": "https://localhost:8080/"
        },
        "id": "_Kk1P77_wPbX",
        "outputId": "21d884bf-3549-4d9b-fbed-af34c06d83db"
      },
      "source": [
        "X_train.shape\n"
      ],
      "execution_count": 30,
      "outputs": [
        {
          "output_type": "execute_result",
          "data": {
            "text/plain": [
              "(5625, 26)"
            ]
          },
          "metadata": {
            "tags": []
          },
          "execution_count": 30
        }
      ]
    },
    {
      "cell_type": "code",
      "metadata": {
        "colab": {
          "base_uri": "https://localhost:8080/"
        },
        "id": "WpaDTEclwV8f",
        "outputId": "c8653121-a5b1-45bc-b252-a77441ca467c"
      },
      "source": [
        "X_test.shape"
      ],
      "execution_count": 31,
      "outputs": [
        {
          "output_type": "execute_result",
          "data": {
            "text/plain": [
              "(1407, 26)"
            ]
          },
          "metadata": {
            "tags": []
          },
          "execution_count": 31
        }
      ]
    },
    {
      "cell_type": "markdown",
      "metadata": {
        "id": "Iyb0bGEawhgf"
      },
      "source": [
        "Now we will start the part of tensorflow"
      ]
    },
    {
      "cell_type": "code",
      "metadata": {
        "id": "th3tQRPnwgoX",
        "colab": {
          "base_uri": "https://localhost:8080/"
        },
        "outputId": "f846fbf8-a6d2-4879-89da-78af71eab9cd"
      },
      "source": [
        "import tensorflow as tf\n",
        "from tensorflow import keras\n",
        "\n",
        "model = keras.Sequential([\n",
        "                          keras.layers.Dense(20, input_shape=(26,), activation='relu'),\n",
        "                          keras.layers.Dense(1, activation='sigmoid'),\n",
        "])\n",
        "\n",
        "model.compile(optimizer='adam', loss='binary_crossentropy', metrics=['accuracy'])\n",
        "\n",
        "model.fit(X_train, Y_train, epochs=120)"
      ],
      "execution_count": 33,
      "outputs": [
        {
          "output_type": "stream",
          "text": [
            "Epoch 1/120\n",
            "176/176 [==============================] - 1s 1ms/step - loss: 0.6906 - accuracy: 0.5482\n",
            "Epoch 2/120\n",
            "176/176 [==============================] - 0s 2ms/step - loss: 0.4483 - accuracy: 0.7884\n",
            "Epoch 3/120\n",
            "176/176 [==============================] - 0s 1ms/step - loss: 0.4193 - accuracy: 0.7964\n",
            "Epoch 4/120\n",
            "176/176 [==============================] - 0s 1ms/step - loss: 0.4108 - accuracy: 0.8071\n",
            "Epoch 5/120\n",
            "176/176 [==============================] - 0s 1ms/step - loss: 0.4138 - accuracy: 0.7967\n",
            "Epoch 6/120\n",
            "176/176 [==============================] - 0s 2ms/step - loss: 0.4136 - accuracy: 0.8007\n",
            "Epoch 7/120\n",
            "176/176 [==============================] - 0s 1ms/step - loss: 0.4145 - accuracy: 0.7982\n",
            "Epoch 8/120\n",
            "176/176 [==============================] - 0s 2ms/step - loss: 0.4071 - accuracy: 0.8094\n",
            "Epoch 9/120\n",
            "176/176 [==============================] - 0s 2ms/step - loss: 0.4175 - accuracy: 0.8026\n",
            "Epoch 10/120\n",
            "176/176 [==============================] - 0s 1ms/step - loss: 0.4075 - accuracy: 0.8061\n",
            "Epoch 11/120\n",
            "176/176 [==============================] - 0s 2ms/step - loss: 0.4077 - accuracy: 0.8071\n",
            "Epoch 12/120\n",
            "176/176 [==============================] - 0s 1ms/step - loss: 0.4069 - accuracy: 0.8087\n",
            "Epoch 13/120\n",
            "176/176 [==============================] - 0s 1ms/step - loss: 0.4058 - accuracy: 0.8079\n",
            "Epoch 14/120\n",
            "176/176 [==============================] - 0s 1ms/step - loss: 0.4143 - accuracy: 0.7990\n",
            "Epoch 15/120\n",
            "176/176 [==============================] - 0s 1ms/step - loss: 0.4057 - accuracy: 0.8093\n",
            "Epoch 16/120\n",
            "176/176 [==============================] - 0s 1ms/step - loss: 0.4018 - accuracy: 0.8090\n",
            "Epoch 17/120\n",
            "176/176 [==============================] - 0s 1ms/step - loss: 0.4140 - accuracy: 0.8085\n",
            "Epoch 18/120\n",
            "176/176 [==============================] - 0s 1ms/step - loss: 0.3986 - accuracy: 0.8175\n",
            "Epoch 19/120\n",
            "176/176 [==============================] - 0s 1ms/step - loss: 0.4039 - accuracy: 0.8089\n",
            "Epoch 20/120\n",
            "176/176 [==============================] - 0s 2ms/step - loss: 0.3883 - accuracy: 0.8160\n",
            "Epoch 21/120\n",
            "176/176 [==============================] - 0s 1ms/step - loss: 0.3994 - accuracy: 0.8153\n",
            "Epoch 22/120\n",
            "176/176 [==============================] - 0s 1ms/step - loss: 0.3970 - accuracy: 0.8153\n",
            "Epoch 23/120\n",
            "176/176 [==============================] - 0s 1ms/step - loss: 0.4066 - accuracy: 0.8154\n",
            "Epoch 24/120\n",
            "176/176 [==============================] - 0s 1ms/step - loss: 0.4024 - accuracy: 0.8129\n",
            "Epoch 25/120\n",
            "176/176 [==============================] - 0s 1ms/step - loss: 0.3967 - accuracy: 0.8148\n",
            "Epoch 26/120\n",
            "176/176 [==============================] - 0s 2ms/step - loss: 0.3999 - accuracy: 0.8145\n",
            "Epoch 27/120\n",
            "176/176 [==============================] - 0s 1ms/step - loss: 0.4061 - accuracy: 0.8114\n",
            "Epoch 28/120\n",
            "176/176 [==============================] - 0s 1ms/step - loss: 0.4026 - accuracy: 0.8055\n",
            "Epoch 29/120\n",
            "176/176 [==============================] - 0s 2ms/step - loss: 0.3911 - accuracy: 0.8201\n",
            "Epoch 30/120\n",
            "176/176 [==============================] - 0s 2ms/step - loss: 0.3986 - accuracy: 0.8157\n",
            "Epoch 31/120\n",
            "176/176 [==============================] - 0s 1ms/step - loss: 0.3922 - accuracy: 0.8138\n",
            "Epoch 32/120\n",
            "176/176 [==============================] - 0s 1ms/step - loss: 0.3936 - accuracy: 0.8177\n",
            "Epoch 33/120\n",
            "176/176 [==============================] - 0s 2ms/step - loss: 0.3855 - accuracy: 0.8190\n",
            "Epoch 34/120\n",
            "176/176 [==============================] - 0s 2ms/step - loss: 0.3930 - accuracy: 0.8179\n",
            "Epoch 35/120\n",
            "176/176 [==============================] - 0s 1ms/step - loss: 0.3858 - accuracy: 0.8287\n",
            "Epoch 36/120\n",
            "176/176 [==============================] - 0s 1ms/step - loss: 0.4026 - accuracy: 0.8098\n",
            "Epoch 37/120\n",
            "176/176 [==============================] - 0s 2ms/step - loss: 0.3852 - accuracy: 0.8210\n",
            "Epoch 38/120\n",
            "176/176 [==============================] - 0s 1ms/step - loss: 0.3892 - accuracy: 0.8199\n",
            "Epoch 39/120\n",
            "176/176 [==============================] - 0s 1ms/step - loss: 0.3971 - accuracy: 0.8183\n",
            "Epoch 40/120\n",
            "176/176 [==============================] - 0s 1ms/step - loss: 0.3898 - accuracy: 0.8236\n",
            "Epoch 41/120\n",
            "176/176 [==============================] - 0s 2ms/step - loss: 0.3922 - accuracy: 0.8201\n",
            "Epoch 42/120\n",
            "176/176 [==============================] - 0s 1ms/step - loss: 0.3940 - accuracy: 0.8189\n",
            "Epoch 43/120\n",
            "176/176 [==============================] - 0s 1ms/step - loss: 0.3903 - accuracy: 0.8185\n",
            "Epoch 44/120\n",
            "176/176 [==============================] - 0s 1ms/step - loss: 0.3900 - accuracy: 0.8123\n",
            "Epoch 45/120\n",
            "176/176 [==============================] - 0s 2ms/step - loss: 0.3790 - accuracy: 0.8269\n",
            "Epoch 46/120\n",
            "176/176 [==============================] - 0s 2ms/step - loss: 0.3935 - accuracy: 0.8140\n",
            "Epoch 47/120\n",
            "176/176 [==============================] - 0s 1ms/step - loss: 0.3958 - accuracy: 0.8120\n",
            "Epoch 48/120\n",
            "176/176 [==============================] - 0s 2ms/step - loss: 0.3898 - accuracy: 0.8191\n",
            "Epoch 49/120\n",
            "176/176 [==============================] - 0s 1ms/step - loss: 0.3802 - accuracy: 0.8233\n",
            "Epoch 50/120\n",
            "176/176 [==============================] - 0s 1ms/step - loss: 0.3878 - accuracy: 0.8203\n",
            "Epoch 51/120\n",
            "176/176 [==============================] - 0s 1ms/step - loss: 0.3829 - accuracy: 0.8230\n",
            "Epoch 52/120\n",
            "176/176 [==============================] - 0s 1ms/step - loss: 0.3887 - accuracy: 0.8171\n",
            "Epoch 53/120\n",
            "176/176 [==============================] - 0s 2ms/step - loss: 0.3878 - accuracy: 0.8236\n",
            "Epoch 54/120\n",
            "176/176 [==============================] - 0s 2ms/step - loss: 0.3816 - accuracy: 0.8296\n",
            "Epoch 55/120\n",
            "176/176 [==============================] - 0s 2ms/step - loss: 0.3794 - accuracy: 0.8301\n",
            "Epoch 56/120\n",
            "176/176 [==============================] - 0s 2ms/step - loss: 0.3866 - accuracy: 0.8186\n",
            "Epoch 57/120\n",
            "176/176 [==============================] - 0s 1ms/step - loss: 0.3926 - accuracy: 0.8140\n",
            "Epoch 58/120\n",
            "176/176 [==============================] - 0s 1ms/step - loss: 0.3828 - accuracy: 0.8238\n",
            "Epoch 59/120\n",
            "176/176 [==============================] - 0s 1ms/step - loss: 0.4050 - accuracy: 0.8116\n",
            "Epoch 60/120\n",
            "176/176 [==============================] - 0s 2ms/step - loss: 0.3900 - accuracy: 0.8157\n",
            "Epoch 61/120\n",
            "176/176 [==============================] - 0s 2ms/step - loss: 0.3978 - accuracy: 0.8186\n",
            "Epoch 62/120\n",
            "176/176 [==============================] - 0s 1ms/step - loss: 0.3866 - accuracy: 0.8227\n",
            "Epoch 63/120\n",
            "176/176 [==============================] - 0s 2ms/step - loss: 0.3862 - accuracy: 0.8249\n",
            "Epoch 64/120\n",
            "176/176 [==============================] - 0s 2ms/step - loss: 0.3842 - accuracy: 0.8162\n",
            "Epoch 65/120\n",
            "176/176 [==============================] - 0s 2ms/step - loss: 0.3945 - accuracy: 0.8199\n",
            "Epoch 66/120\n",
            "176/176 [==============================] - 0s 1ms/step - loss: 0.3911 - accuracy: 0.8235\n",
            "Epoch 67/120\n",
            "176/176 [==============================] - 0s 2ms/step - loss: 0.3807 - accuracy: 0.8258\n",
            "Epoch 68/120\n",
            "176/176 [==============================] - 0s 1ms/step - loss: 0.3766 - accuracy: 0.8254\n",
            "Epoch 69/120\n",
            "176/176 [==============================] - 0s 2ms/step - loss: 0.3792 - accuracy: 0.8213\n",
            "Epoch 70/120\n",
            "176/176 [==============================] - 0s 1ms/step - loss: 0.3889 - accuracy: 0.8190\n",
            "Epoch 71/120\n",
            "176/176 [==============================] - 0s 2ms/step - loss: 0.3802 - accuracy: 0.8286\n",
            "Epoch 72/120\n",
            "176/176 [==============================] - 0s 1ms/step - loss: 0.3833 - accuracy: 0.8287\n",
            "Epoch 73/120\n",
            "176/176 [==============================] - 0s 2ms/step - loss: 0.3746 - accuracy: 0.8270\n",
            "Epoch 74/120\n",
            "176/176 [==============================] - 0s 2ms/step - loss: 0.3755 - accuracy: 0.8266\n",
            "Epoch 75/120\n",
            "176/176 [==============================] - 0s 2ms/step - loss: 0.3688 - accuracy: 0.8365\n",
            "Epoch 76/120\n",
            "176/176 [==============================] - 0s 1ms/step - loss: 0.3863 - accuracy: 0.8199\n",
            "Epoch 77/120\n",
            "176/176 [==============================] - 0s 2ms/step - loss: 0.3765 - accuracy: 0.8236\n",
            "Epoch 78/120\n",
            "176/176 [==============================] - 0s 2ms/step - loss: 0.3876 - accuracy: 0.8196\n",
            "Epoch 79/120\n",
            "176/176 [==============================] - 0s 1ms/step - loss: 0.3799 - accuracy: 0.8237\n",
            "Epoch 80/120\n",
            "176/176 [==============================] - 0s 1ms/step - loss: 0.3940 - accuracy: 0.8125\n",
            "Epoch 81/120\n",
            "176/176 [==============================] - 0s 2ms/step - loss: 0.3891 - accuracy: 0.8181\n",
            "Epoch 82/120\n",
            "176/176 [==============================] - 0s 2ms/step - loss: 0.3863 - accuracy: 0.8162\n",
            "Epoch 83/120\n",
            "176/176 [==============================] - 0s 1ms/step - loss: 0.3967 - accuracy: 0.8167\n",
            "Epoch 84/120\n",
            "176/176 [==============================] - 0s 2ms/step - loss: 0.3862 - accuracy: 0.8235\n",
            "Epoch 85/120\n",
            "176/176 [==============================] - 0s 2ms/step - loss: 0.3925 - accuracy: 0.8132\n",
            "Epoch 86/120\n",
            "176/176 [==============================] - 0s 1ms/step - loss: 0.3857 - accuracy: 0.8225\n",
            "Epoch 87/120\n",
            "176/176 [==============================] - 0s 1ms/step - loss: 0.3869 - accuracy: 0.8184\n",
            "Epoch 88/120\n",
            "176/176 [==============================] - 0s 2ms/step - loss: 0.3744 - accuracy: 0.8304\n",
            "Epoch 89/120\n",
            "176/176 [==============================] - 0s 2ms/step - loss: 0.3797 - accuracy: 0.8213\n",
            "Epoch 90/120\n",
            "176/176 [==============================] - 0s 1ms/step - loss: 0.3910 - accuracy: 0.8166\n",
            "Epoch 91/120\n",
            "176/176 [==============================] - 0s 2ms/step - loss: 0.3880 - accuracy: 0.8131\n",
            "Epoch 92/120\n",
            "176/176 [==============================] - 0s 2ms/step - loss: 0.3960 - accuracy: 0.8140\n",
            "Epoch 93/120\n",
            "176/176 [==============================] - 0s 1ms/step - loss: 0.3866 - accuracy: 0.8206\n",
            "Epoch 94/120\n",
            "176/176 [==============================] - 0s 1ms/step - loss: 0.3702 - accuracy: 0.8288\n",
            "Epoch 95/120\n",
            "176/176 [==============================] - 0s 1ms/step - loss: 0.3727 - accuracy: 0.8321\n",
            "Epoch 96/120\n",
            "176/176 [==============================] - 0s 2ms/step - loss: 0.3679 - accuracy: 0.8317\n",
            "Epoch 97/120\n",
            "176/176 [==============================] - 0s 2ms/step - loss: 0.3975 - accuracy: 0.8099\n",
            "Epoch 98/120\n",
            "176/176 [==============================] - 0s 1ms/step - loss: 0.3880 - accuracy: 0.8265\n",
            "Epoch 99/120\n",
            "176/176 [==============================] - 0s 2ms/step - loss: 0.3972 - accuracy: 0.8142\n",
            "Epoch 100/120\n",
            "176/176 [==============================] - 0s 2ms/step - loss: 0.3790 - accuracy: 0.8276\n",
            "Epoch 101/120\n",
            "176/176 [==============================] - 0s 1ms/step - loss: 0.3862 - accuracy: 0.8210\n",
            "Epoch 102/120\n",
            "176/176 [==============================] - 0s 2ms/step - loss: 0.3897 - accuracy: 0.8161\n",
            "Epoch 103/120\n",
            "176/176 [==============================] - 0s 1ms/step - loss: 0.3723 - accuracy: 0.8290\n",
            "Epoch 104/120\n",
            "176/176 [==============================] - 0s 1ms/step - loss: 0.3697 - accuracy: 0.8337\n",
            "Epoch 105/120\n",
            "176/176 [==============================] - 0s 1ms/step - loss: 0.3933 - accuracy: 0.8132\n",
            "Epoch 106/120\n",
            "176/176 [==============================] - 0s 2ms/step - loss: 0.3885 - accuracy: 0.8191\n",
            "Epoch 107/120\n",
            "176/176 [==============================] - 0s 2ms/step - loss: 0.3752 - accuracy: 0.8270\n",
            "Epoch 108/120\n",
            "176/176 [==============================] - 0s 2ms/step - loss: 0.3831 - accuracy: 0.8263\n",
            "Epoch 109/120\n",
            "176/176 [==============================] - 0s 2ms/step - loss: 0.3821 - accuracy: 0.8247\n",
            "Epoch 110/120\n",
            "176/176 [==============================] - 0s 1ms/step - loss: 0.3744 - accuracy: 0.8300\n",
            "Epoch 111/120\n",
            "176/176 [==============================] - 0s 2ms/step - loss: 0.3837 - accuracy: 0.8251\n",
            "Epoch 112/120\n",
            "176/176 [==============================] - 0s 1ms/step - loss: 0.3711 - accuracy: 0.8220\n",
            "Epoch 113/120\n",
            "176/176 [==============================] - 0s 1ms/step - loss: 0.3827 - accuracy: 0.8177\n",
            "Epoch 114/120\n",
            "176/176 [==============================] - 0s 2ms/step - loss: 0.3860 - accuracy: 0.8175\n",
            "Epoch 115/120\n",
            "176/176 [==============================] - 0s 2ms/step - loss: 0.3924 - accuracy: 0.8163\n",
            "Epoch 116/120\n",
            "176/176 [==============================] - 0s 1ms/step - loss: 0.3910 - accuracy: 0.8201\n",
            "Epoch 117/120\n",
            "176/176 [==============================] - 0s 2ms/step - loss: 0.3858 - accuracy: 0.8199\n",
            "Epoch 118/120\n",
            "176/176 [==============================] - 0s 2ms/step - loss: 0.3734 - accuracy: 0.8312\n",
            "Epoch 119/120\n",
            "176/176 [==============================] - 0s 1ms/step - loss: 0.3776 - accuracy: 0.8218\n",
            "Epoch 120/120\n",
            "176/176 [==============================] - 0s 2ms/step - loss: 0.3794 - accuracy: 0.8243\n"
          ],
          "name": "stdout"
        },
        {
          "output_type": "execute_result",
          "data": {
            "text/plain": [
              "<tensorflow.python.keras.callbacks.History at 0x7f541aa73e50>"
            ]
          },
          "metadata": {
            "tags": []
          },
          "execution_count": 33
        }
      ]
    },
    {
      "cell_type": "code",
      "metadata": {
        "colab": {
          "base_uri": "https://localhost:8080/"
        },
        "id": "51LB0cYuLRUX",
        "outputId": "66a206ef-5bee-4603-c3e8-bd70d0c9d13a"
      },
      "source": [
        "model.evaluate(X_test, Y_test)"
      ],
      "execution_count": 35,
      "outputs": [
        {
          "output_type": "stream",
          "text": [
            "44/44 [==============================] - 0s 1ms/step - loss: 0.4503 - accuracy: 0.7910\n"
          ],
          "name": "stdout"
        },
        {
          "output_type": "execute_result",
          "data": {
            "text/plain": [
              "[0.45026206970214844, 0.7910447716712952]"
            ]
          },
          "metadata": {
            "tags": []
          },
          "execution_count": 35
        }
      ]
    },
    {
      "cell_type": "code",
      "metadata": {
        "colab": {
          "base_uri": "https://localhost:8080/"
        },
        "id": "97Dc_BzVLueV",
        "outputId": "d9c2b9c9-cf2d-4edb-81de-641e5a7ffa3a"
      },
      "source": [
        "Y_test"
      ],
      "execution_count": 37,
      "outputs": [
        {
          "output_type": "execute_result",
          "data": {
            "text/plain": [
              "2660    0\n",
              "744     0\n",
              "5579    1\n",
              "64      1\n",
              "3287    1\n",
              "       ..\n",
              "2024    0\n",
              "4396    1\n",
              "4081    1\n",
              "1297    0\n",
              "4899    1\n",
              "Name: Churn, Length: 1407, dtype: int64"
            ]
          },
          "metadata": {
            "tags": []
          },
          "execution_count": 37
        }
      ]
    },
    {
      "cell_type": "code",
      "metadata": {
        "colab": {
          "base_uri": "https://localhost:8080/"
        },
        "id": "8vODf-VJLdsl",
        "outputId": "12ebc24b-ef4c-4d38-efef-dcf2ef281d88"
      },
      "source": [
        "yp = model.predict(X_test)\n",
        "yp[:5]"
      ],
      "execution_count": 36,
      "outputs": [
        {
          "output_type": "execute_result",
          "data": {
            "text/plain": [
              "array([[0.19933933],\n",
              "       [0.3967117 ],\n",
              "       [0.01018909],\n",
              "       [0.8043977 ],\n",
              "       [0.3838638 ]], dtype=float32)"
            ]
          },
          "metadata": {
            "tags": []
          },
          "execution_count": 36
        }
      ]
    },
    {
      "cell_type": "markdown",
      "metadata": {
        "id": "xMW2o6ngLnMt"
      },
      "source": [
        "It is giving two dimensional array. We need to convert it into single dimension"
      ]
    },
    {
      "cell_type": "code",
      "metadata": {
        "id": "07wBLFfpMARW"
      },
      "source": [
        "y_pred = []\n",
        "for element in yp:\n",
        "  if element > 0.5:\n",
        "    y_pred.append(1)\n",
        "  else:\n",
        "    y_pred.append(0)"
      ],
      "execution_count": 38,
      "outputs": []
    },
    {
      "cell_type": "code",
      "metadata": {
        "colab": {
          "base_uri": "https://localhost:8080/"
        },
        "id": "mGed6B63MYjv",
        "outputId": "633f58a5-7436-4daf-f664-c0e5d98eb9c0"
      },
      "source": [
        "y_pred[:5]"
      ],
      "execution_count": 39,
      "outputs": [
        {
          "output_type": "execute_result",
          "data": {
            "text/plain": [
              "[0, 0, 0, 1, 0]"
            ]
          },
          "metadata": {
            "tags": []
          },
          "execution_count": 39
        }
      ]
    },
    {
      "cell_type": "code",
      "metadata": {
        "colab": {
          "base_uri": "https://localhost:8080/"
        },
        "id": "4Rh_10mRMjqp",
        "outputId": "850d7fda-68d5-48c4-e65f-157b263deebd"
      },
      "source": [
        "from sklearn.metrics import confusion_matrix, classification_report\n",
        "\n",
        "print(classification_report(Y_test, y_pred))"
      ],
      "execution_count": 40,
      "outputs": [
        {
          "output_type": "stream",
          "text": [
            "              precision    recall  f1-score   support\n",
            "\n",
            "           0       0.82      0.90      0.86       999\n",
            "           1       0.68      0.53      0.60       408\n",
            "\n",
            "    accuracy                           0.79      1407\n",
            "   macro avg       0.75      0.71      0.73      1407\n",
            "weighted avg       0.78      0.79      0.78      1407\n",
            "\n"
          ],
          "name": "stdout"
        }
      ]
    },
    {
      "cell_type": "code",
      "metadata": {
        "colab": {
          "base_uri": "https://localhost:8080/",
          "height": 459
        },
        "id": "44bILMgOM3Qg",
        "outputId": "256b415b-801f-4b12-8a26-1ac85c16fb4f"
      },
      "source": [
        "import seaborn as sn\n",
        "cm = tf.math.confusion_matrix(labels=Y_test, predictions=y_pred)\n",
        "\n",
        "plt.figure(figsize=(10,7))\n",
        "sn.heatmap(cm, annot=True, fmt='d')\n",
        "plt.xlabel('Predicted')\n",
        "plt.ylabel('Truth')"
      ],
      "execution_count": 41,
      "outputs": [
        {
          "output_type": "execute_result",
          "data": {
            "text/plain": [
              "Text(69.0, 0.5, 'Truth')"
            ]
          },
          "metadata": {
            "tags": []
          },
          "execution_count": 41
        },
        {
          "output_type": "display_data",
          "data": {
            "image/png": "[encoded data removed]",
            "text/plain": [
              "<Figure size 720x504 with 2 Axes>"
            ]
          },
          "metadata": {
            "tags": [],
            "needs_background": "light"
          }
        }
      ]
    }
  ]
}